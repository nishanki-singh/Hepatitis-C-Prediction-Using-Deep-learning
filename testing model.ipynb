{
 "cells": [
  {
   "cell_type": "code",
   "execution_count": 1,
   "id": "909767c0",
   "metadata": {},
   "outputs": [],
   "source": [
    "import pandas as pd\n",
    "from keras.models import Sequential\n",
    "from keras.layers import Dense\n",
    "from sklearn.model_selection import train_test_split\n",
    "import joblib"
   ]
  },
  {
   "cell_type": "code",
   "execution_count": 2,
   "id": "b53a33d0",
   "metadata": {},
   "outputs": [],
   "source": [
    "dataset = pd.read_csv('normalized_data.csv')\n",
    "X = dataset.drop('target_variable', axis=1)\n",
    "y = dataset['target_variable']"
   ]
  },
  {
   "cell_type": "code",
   "execution_count": 6,
   "id": "49926255",
   "metadata": {},
   "outputs": [],
   "source": [
    "X_train, X_test, y_train, y_test = train_test_split(X, y, test_size=0.2)"
   ]
  },
  {
   "cell_type": "code",
   "execution_count": 31,
   "id": "3aa1a719",
   "metadata": {},
   "outputs": [],
   "source": [
    "# create model\n",
    "model = Sequential()\n",
    "model.add(Dense(64, input_dim=X_train.shape[1], activation='relu'))\n",
    "model.add(Dense(32, activation='relu'))\n",
    "model.add(Dense(8, activation='relu'))\n",
    "model.add(Dense(4, activation='softmax'))"
   ]
  },
  {
   "cell_type": "code",
   "execution_count": 32,
   "id": "071ba080",
   "metadata": {},
   "outputs": [],
   "source": [
    "model.compile(loss='sparse_categorical_crossentropy', optimizer='adam', metrics=['accuracy'])"
   ]
  },
  {
   "cell_type": "code",
   "execution_count": 33,
   "id": "ec11092e",
   "metadata": {
    "scrolled": false
   },
   "outputs": [
    {
     "name": "stdout",
     "output_type": "stream",
     "text": [
      "Epoch 1/50\n",
      "16/16 [==============================] - 1s 11ms/step - loss: 1.4307 - accuracy: 0.0702 - val_loss: 1.3434 - val_accuracy: 0.2231\n",
      "Epoch 2/50\n",
      "16/16 [==============================] - 0s 3ms/step - loss: 1.2888 - accuracy: 0.3864 - val_loss: 1.2369 - val_accuracy: 0.5124\n",
      "Epoch 3/50\n",
      "16/16 [==============================] - 0s 4ms/step - loss: 1.1586 - accuracy: 0.6012 - val_loss: 1.1057 - val_accuracy: 0.8099\n",
      "Epoch 4/50\n",
      "16/16 [==============================] - 0s 4ms/step - loss: 1.0015 - accuracy: 0.8760 - val_loss: 0.9382 - val_accuracy: 0.8678\n",
      "Epoch 5/50\n",
      "16/16 [==============================] - 0s 4ms/step - loss: 0.8138 - accuracy: 0.8988 - val_loss: 0.7458 - val_accuracy: 0.8843\n",
      "Epoch 6/50\n",
      "16/16 [==============================] - 0s 3ms/step - loss: 0.6171 - accuracy: 0.8988 - val_loss: 0.5575 - val_accuracy: 0.8843\n",
      "Epoch 7/50\n",
      "16/16 [==============================] - 0s 3ms/step - loss: 0.4393 - accuracy: 0.9008 - val_loss: 0.4091 - val_accuracy: 0.8926\n",
      "Epoch 8/50\n",
      "16/16 [==============================] - 0s 3ms/step - loss: 0.3348 - accuracy: 0.9029 - val_loss: 0.3375 - val_accuracy: 0.9008\n",
      "Epoch 9/50\n",
      "16/16 [==============================] - 0s 4ms/step - loss: 0.2872 - accuracy: 0.9070 - val_loss: 0.3079 - val_accuracy: 0.9008\n",
      "Epoch 10/50\n",
      "16/16 [==============================] - 0s 3ms/step - loss: 0.2670 - accuracy: 0.9070 - val_loss: 0.2946 - val_accuracy: 0.9008\n",
      "Epoch 11/50\n",
      "16/16 [==============================] - 0s 3ms/step - loss: 0.2582 - accuracy: 0.9070 - val_loss: 0.2877 - val_accuracy: 0.9008\n",
      "Epoch 12/50\n",
      "16/16 [==============================] - 0s 3ms/step - loss: 0.2512 - accuracy: 0.9091 - val_loss: 0.2803 - val_accuracy: 0.9008\n",
      "Epoch 13/50\n",
      "16/16 [==============================] - 0s 3ms/step - loss: 0.2460 - accuracy: 0.9112 - val_loss: 0.2750 - val_accuracy: 0.9008\n",
      "Epoch 14/50\n",
      "16/16 [==============================] - 0s 3ms/step - loss: 0.2410 - accuracy: 0.9112 - val_loss: 0.2712 - val_accuracy: 0.9008\n",
      "Epoch 15/50\n",
      "16/16 [==============================] - 0s 3ms/step - loss: 0.2369 - accuracy: 0.9091 - val_loss: 0.2662 - val_accuracy: 0.9008\n",
      "Epoch 16/50\n",
      "16/16 [==============================] - 0s 3ms/step - loss: 0.2312 - accuracy: 0.9132 - val_loss: 0.2642 - val_accuracy: 0.9008\n",
      "Epoch 17/50\n",
      "16/16 [==============================] - 0s 3ms/step - loss: 0.2274 - accuracy: 0.9132 - val_loss: 0.2608 - val_accuracy: 0.9008\n",
      "Epoch 18/50\n",
      "16/16 [==============================] - 0s 4ms/step - loss: 0.2231 - accuracy: 0.9174 - val_loss: 0.2588 - val_accuracy: 0.9008\n",
      "Epoch 19/50\n",
      "16/16 [==============================] - 0s 4ms/step - loss: 0.2197 - accuracy: 0.9215 - val_loss: 0.2570 - val_accuracy: 0.9008\n",
      "Epoch 20/50\n",
      "16/16 [==============================] - 0s 3ms/step - loss: 0.2169 - accuracy: 0.9236 - val_loss: 0.2551 - val_accuracy: 0.9008\n",
      "Epoch 21/50\n",
      "16/16 [==============================] - 0s 3ms/step - loss: 0.2135 - accuracy: 0.9256 - val_loss: 0.2541 - val_accuracy: 0.9008\n",
      "Epoch 22/50\n",
      "16/16 [==============================] - 0s 3ms/step - loss: 0.2107 - accuracy: 0.9277 - val_loss: 0.2519 - val_accuracy: 0.9091\n",
      "Epoch 23/50\n",
      "16/16 [==============================] - 0s 3ms/step - loss: 0.2086 - accuracy: 0.9318 - val_loss: 0.2485 - val_accuracy: 0.9008\n",
      "Epoch 24/50\n",
      "16/16 [==============================] - 0s 4ms/step - loss: 0.2060 - accuracy: 0.9318 - val_loss: 0.2480 - val_accuracy: 0.9008\n",
      "Epoch 25/50\n",
      "16/16 [==============================] - 0s 4ms/step - loss: 0.2023 - accuracy: 0.9380 - val_loss: 0.2451 - val_accuracy: 0.9008\n",
      "Epoch 26/50\n",
      "16/16 [==============================] - 0s 3ms/step - loss: 0.1996 - accuracy: 0.9360 - val_loss: 0.2423 - val_accuracy: 0.9008\n",
      "Epoch 27/50\n",
      "16/16 [==============================] - 0s 3ms/step - loss: 0.1976 - accuracy: 0.9360 - val_loss: 0.2406 - val_accuracy: 0.9091\n",
      "Epoch 28/50\n",
      "16/16 [==============================] - 0s 3ms/step - loss: 0.1947 - accuracy: 0.9401 - val_loss: 0.2442 - val_accuracy: 0.9091\n",
      "Epoch 29/50\n",
      "16/16 [==============================] - 0s 3ms/step - loss: 0.1944 - accuracy: 0.9401 - val_loss: 0.2416 - val_accuracy: 0.9091\n",
      "Epoch 30/50\n",
      "16/16 [==============================] - 0s 3ms/step - loss: 0.1915 - accuracy: 0.9401 - val_loss: 0.2399 - val_accuracy: 0.9091\n",
      "Epoch 31/50\n",
      "16/16 [==============================] - 0s 3ms/step - loss: 0.1881 - accuracy: 0.9401 - val_loss: 0.2388 - val_accuracy: 0.9091\n",
      "Epoch 32/50\n",
      "16/16 [==============================] - 0s 3ms/step - loss: 0.1858 - accuracy: 0.9401 - val_loss: 0.2358 - val_accuracy: 0.9174\n",
      "Epoch 33/50\n",
      "16/16 [==============================] - 0s 4ms/step - loss: 0.1838 - accuracy: 0.9421 - val_loss: 0.2354 - val_accuracy: 0.9174\n",
      "Epoch 34/50\n",
      "16/16 [==============================] - 0s 3ms/step - loss: 0.1814 - accuracy: 0.9421 - val_loss: 0.2352 - val_accuracy: 0.9174\n",
      "Epoch 35/50\n",
      "16/16 [==============================] - 0s 3ms/step - loss: 0.1794 - accuracy: 0.9421 - val_loss: 0.2342 - val_accuracy: 0.9174\n",
      "Epoch 36/50\n",
      "16/16 [==============================] - 0s 4ms/step - loss: 0.1774 - accuracy: 0.9442 - val_loss: 0.2344 - val_accuracy: 0.9091\n",
      "Epoch 37/50\n",
      "16/16 [==============================] - 0s 4ms/step - loss: 0.1743 - accuracy: 0.9442 - val_loss: 0.2367 - val_accuracy: 0.9174\n",
      "Epoch 38/50\n",
      "16/16 [==============================] - 0s 4ms/step - loss: 0.1733 - accuracy: 0.9483 - val_loss: 0.2361 - val_accuracy: 0.9174\n",
      "Epoch 39/50\n",
      "16/16 [==============================] - 0s 5ms/step - loss: 0.1726 - accuracy: 0.9463 - val_loss: 0.2365 - val_accuracy: 0.9174\n",
      "Epoch 40/50\n",
      "16/16 [==============================] - 0s 5ms/step - loss: 0.1685 - accuracy: 0.9483 - val_loss: 0.2364 - val_accuracy: 0.9174\n",
      "Epoch 41/50\n",
      "16/16 [==============================] - 0s 4ms/step - loss: 0.1684 - accuracy: 0.9463 - val_loss: 0.2433 - val_accuracy: 0.9091\n",
      "Epoch 42/50\n",
      "16/16 [==============================] - 0s 5ms/step - loss: 0.1657 - accuracy: 0.9483 - val_loss: 0.2384 - val_accuracy: 0.9174\n",
      "Epoch 43/50\n",
      "16/16 [==============================] - 0s 4ms/step - loss: 0.1636 - accuracy: 0.9504 - val_loss: 0.2362 - val_accuracy: 0.9174\n",
      "Epoch 44/50\n",
      "16/16 [==============================] - 0s 3ms/step - loss: 0.1613 - accuracy: 0.9504 - val_loss: 0.2420 - val_accuracy: 0.9091\n",
      "Epoch 45/50\n",
      "16/16 [==============================] - 0s 4ms/step - loss: 0.1591 - accuracy: 0.9504 - val_loss: 0.2421 - val_accuracy: 0.9091\n",
      "Epoch 46/50\n",
      "16/16 [==============================] - 0s 4ms/step - loss: 0.1584 - accuracy: 0.9483 - val_loss: 0.2440 - val_accuracy: 0.9008\n",
      "Epoch 47/50\n",
      "16/16 [==============================] - 0s 4ms/step - loss: 0.1548 - accuracy: 0.9525 - val_loss: 0.2416 - val_accuracy: 0.9174\n",
      "Epoch 48/50\n",
      "16/16 [==============================] - 0s 4ms/step - loss: 0.1539 - accuracy: 0.9545 - val_loss: 0.2428 - val_accuracy: 0.9091\n",
      "Epoch 49/50\n",
      "16/16 [==============================] - 0s 4ms/step - loss: 0.1530 - accuracy: 0.9504 - val_loss: 0.2534 - val_accuracy: 0.9091\n",
      "Epoch 50/50\n",
      "16/16 [==============================] - 0s 3ms/step - loss: 0.1505 - accuracy: 0.9545 - val_loss: 0.2509 - val_accuracy: 0.9091\n"
     ]
    }
   ],
   "source": [
    "history = model.fit(X_train, y_train, epochs=50, batch_size=32, validation_data=(X_test, y_test))"
   ]
  },
  {
   "cell_type": "code",
   "execution_count": 35,
   "id": "cabdc221",
   "metadata": {},
   "outputs": [
    {
     "name": "stdout",
     "output_type": "stream",
     "text": [
      "Epoch 1/100\n",
      "16/16 [==============================] - 0s 5ms/step - loss: 0.1475 - accuracy: 0.9545 - val_loss: 0.2436 - val_accuracy: 0.9091\n",
      "Epoch 2/100\n",
      "16/16 [==============================] - 0s 3ms/step - loss: 0.1459 - accuracy: 0.9566 - val_loss: 0.2428 - val_accuracy: 0.9091\n",
      "Epoch 3/100\n",
      "16/16 [==============================] - 0s 3ms/step - loss: 0.1449 - accuracy: 0.9587 - val_loss: 0.2422 - val_accuracy: 0.9091\n",
      "Epoch 4/100\n",
      "16/16 [==============================] - 0s 3ms/step - loss: 0.1422 - accuracy: 0.9587 - val_loss: 0.2465 - val_accuracy: 0.9091\n",
      "Epoch 5/100\n",
      "16/16 [==============================] - 0s 3ms/step - loss: 0.1402 - accuracy: 0.9587 - val_loss: 0.2499 - val_accuracy: 0.9091\n",
      "Epoch 6/100\n",
      "16/16 [==============================] - 0s 3ms/step - loss: 0.1376 - accuracy: 0.9587 - val_loss: 0.2478 - val_accuracy: 0.9091\n",
      "Epoch 7/100\n",
      "16/16 [==============================] - 0s 5ms/step - loss: 0.1378 - accuracy: 0.9587 - val_loss: 0.2481 - val_accuracy: 0.9091\n",
      "Epoch 8/100\n",
      "16/16 [==============================] - 0s 5ms/step - loss: 0.1356 - accuracy: 0.9587 - val_loss: 0.2482 - val_accuracy: 0.9008\n",
      "Epoch 9/100\n",
      "16/16 [==============================] - 0s 5ms/step - loss: 0.1359 - accuracy: 0.9587 - val_loss: 0.2586 - val_accuracy: 0.9008\n",
      "Epoch 10/100\n",
      "16/16 [==============================] - 0s 4ms/step - loss: 0.1342 - accuracy: 0.9587 - val_loss: 0.2586 - val_accuracy: 0.9091\n",
      "Epoch 11/100\n",
      "16/16 [==============================] - 0s 3ms/step - loss: 0.1310 - accuracy: 0.9628 - val_loss: 0.2514 - val_accuracy: 0.9008\n",
      "Epoch 12/100\n",
      "16/16 [==============================] - 0s 4ms/step - loss: 0.1290 - accuracy: 0.9587 - val_loss: 0.2579 - val_accuracy: 0.8926\n",
      "Epoch 13/100\n",
      "16/16 [==============================] - 0s 3ms/step - loss: 0.1266 - accuracy: 0.9628 - val_loss: 0.2591 - val_accuracy: 0.9091\n"
     ]
    }
   ],
   "source": [
    "from keras.callbacks import EarlyStopping\n",
    "\n",
    "# create the early stopping callback\n",
    "early_stop = EarlyStopping(monitor='val_loss', patience=10)\n",
    "\n",
    "# train the model with early stopping\n",
    "history = model.fit(X_train, y_train, validation_data=(X_test, y_test),\n",
    "                    epochs=100, batch_size=32, callbacks=[early_stop])\n"
   ]
  },
  {
   "cell_type": "code",
   "execution_count": null,
   "id": "c6a25bf8",
   "metadata": {},
   "outputs": [],
   "source": []
  }
 ],
 "metadata": {
  "kernelspec": {
   "display_name": "Python 3 (ipykernel)",
   "language": "python",
   "name": "python3"
  },
  "language_info": {
   "codemirror_mode": {
    "name": "ipython",
    "version": 3
   },
   "file_extension": ".py",
   "mimetype": "text/x-python",
   "name": "python",
   "nbconvert_exporter": "python",
   "pygments_lexer": "ipython3",
   "version": "3.9.7"
  }
 },
 "nbformat": 4,
 "nbformat_minor": 5
}
